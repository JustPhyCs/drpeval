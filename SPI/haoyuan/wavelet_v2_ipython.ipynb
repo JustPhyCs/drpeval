{
 "metadata": {
  "celltoolbar": "Raw Cell Format",
  "name": "",
  "signature": "sha256:c657e712aab4b2d4c9591a4119d00296b6fa52cf4b69bfc0a3cf798c9ddca511"
 },
 "nbformat": 3,
 "nbformat_minor": 0,
 "worksheets": [
  {
   "cells": [
    {
     "cell_type": "code",
     "collapsed": false,
     "input": [
      "import pywt\n",
      "import numpy as np\n",
      "import h5py as h5\n",
      "import subprocess\n",
      "import os\n",
      "import matplotlib.pyplot as plt\n",
      "import time"
     ],
     "language": "python",
     "metadata": {},
     "outputs": [],
     "prompt_number": 1
    },
    {
     "cell_type": "code",
     "collapsed": false,
     "input": [
      "#run_num_list=['182','184','185','186','188','190','191','192','193','194','196','197']\n",
      "\n",
      "run_num_list=['182','184','185','186']\n",
      "\n",
      "## files_size_original contains the file sizes of the original h5 files in MB\n",
      "## time contains [,number of images,total time of tranform,average time of transform, \n",
      "##                 total time of inverse transform, average time of inverse transform]\n",
      "files_size_original=np.zeros(len(run_num_list))\n",
      "files_size_ll      =np.zeros(len(run_num_list))\n",
      "files_size_re      =np.zeros(len(run_num_list))\n",
      "\n",
      "time_all=np.zeros((len(run_num_list),5))\n",
      "\n",
      "for num in range(len(run_num_list)):\n",
      "    \n",
      "    run_num=run_num_list[num]\n",
      "        \n",
      "    path='/reg/d/psdm/amo/amo86615/res/yoon82/data/'\n",
      "    file_name = 'amo86615_'+run_num+'_PR772_single.h5'\n",
      "    \n",
      "    h5file=h5.File(path+file_name)\n",
      "    photon_count=h5file['photonConverter/pnccdBack/photonCount']\n",
      "    \n",
      "    ## Read into memory\n",
      "    ## Notice that currently the image size is a little bit weird. So I just added a zero pad to the far right boundary\n",
      "    ## But I have kept the restored images the same size by chopping off the far right boundary after the inverse transformation.\n",
      "    p_count=np.zeros((photon_count.shape[0],photon_count.shape[1],photon_count.shape[2]+1))\n",
      "    p_count[::,::,0:photon_count.shape[2]:1] = photon_count[::,::,::]\n",
      "    \n",
      "    ## First process an image to see the data size\n",
      "    ll,(LH,HL,HH)= pywt.dwt2(p_count[0,::,::],'db2')\n",
      "    \n",
      "    ## re_photon_count contains the restored image that will be used to reconstruct the 3-D diffraction volume\n",
      "    ## ll_photon_count contains the information required to do the inverse wavelet transformation\n",
      "    re_photon_count= np.zeros((photon_count.shape[0],photon_count.shape[1],photon_count.shape[2]))\n",
      "    ll_photon_count= np.zeros((photon_count.shape[0],ll.shape[0],ll.shape[1]))    \n",
      "    \n",
      "    ## Data compression,and calculate the time duration.\n",
      "    t1=time.time()\n",
      "    for indx2 in range(photon_count.shape[0]):\n",
      "        ll,(LH,HL,HH)= pywt.dwt2(p_count[indx2,::,::],'db2')\n",
      "        ll_photon_count[indx2,::,::]=ll\n",
      "    ll_photon_count=ll_photon_count.astype('uint16')    \n",
      "    t2=time.time()\n",
      "    time_wt = t2-t1\n",
      "    print (\"The time used to do wavelet transformation for %d images \" % photon_count.shape[0])\n",
      "    print (\"is %f second\"%time_wt)\n",
      "    \n",
      "    ## Calculate the time used to do inverse transformation\n",
      "    t3=time.time()\n",
      "    zeros_pad = np.zeros_like(HL)\n",
      "    for indx3 in range(photon_count.shape[0]):    \n",
      "        new_coefficient = (ll_photon_count[indx3],(zeros_pad,zeros_pad,zeros_pad))\n",
      "        re_photon_count[indx2,::,::]=pywt.idwt2(new_coefficient,'db2')[0:photon_count.shape[1],0:photon_count.shape[2]]\n",
      "    re_photon_count=re_photon_count.astype('uint16')    \n",
      "    t4=time.time()\n",
      "    time_iwt = t4-t3\n",
      "    print (\"The time used to do inverse transformation for %d images \" % photon_count.shape[0])\n",
      "    print (\"is %f second\"%time_iwt)\n",
      "    \n",
      "    ## copy two different copies _single.h5 file to my folder. one contains the reconstructed image\n",
      "    ## The other contains the compressed images.\n",
      "    path_new = '/reg/d/psdm/cxi/cxitut13/res/haoyuan/wavelet_compress_1/'\n",
      "    file_ll = 'amo86615_'+run_num+'_PR772_single_ll.h5'\n",
      "    file_re = 'amo86615_'+run_num+'_PR772_single_re.h5'\n",
      "    os.system('rm %s%s'%(path_new,file_ll))\n",
      "    os.system('rm %s%s'%(path_new,file_re))\n",
      "    os.system('cp %s%s %s%s'%(path,file_name,path_new,file_ll))\n",
      "    os.system('cp %s%s %s%s'%(path,file_name,path_new,file_re))\n",
      "    \n",
      "    \n",
      "    ## edit the h5 ll files\n",
      "    h5ll=h5.File(path_new+file_ll,'r+')\n",
      "    del h5ll['photonConverter/pnccdBack/photonCount']\n",
      "    ll_data= h5ll.create_dataset('photonConverter/pnccdBack/photonCount',ll_photon_count.shape,'uint16',data = ll_photon_count)\n",
      "\n",
      "    ## Copy and change the attributes of the data set.\n",
      "    for attrs in photon_count.attrs.items():\n",
      "        ll_data.attrs.__setitem__(attrs[0],attrs[1])\n",
      "\n",
      "    ll_data.attrs.__setitem__('downsampleCols',ll_photon_count.shape[2])\n",
      "    ll_data.attrs.__setitem__('downsampleRows',ll_photon_count.shape[1])\n",
      "    ll_data.attrs.__setitem__('downsample',4)\n",
      "    ll_data.attrs.__setitem__('filepath',path_new+file_ll)\n",
      "    ll_data.attrs.__setitem__('wavelet','ll component, db2 family')\n",
      "    \n",
      "    \n",
      "    ## Save the change to the h5 file.\n",
      "    h5ll.flush()\n",
      "    h5ll.close()\n",
      "    \n",
      "\n",
      "    ## edit the h5 reconstruct files\n",
      "    h5re=h5.File(path_new+file_re,'r+')\n",
      "    del h5re['photonConverter/pnccdBack/photonCount']\n",
      "    re_data= h5re.create_dataset('photonConverter/pnccdBack/photonCount',re_photon_count.shape,'uint16',data = re_photon_count)\n",
      "\n",
      "    ## Copy and change the attributes of the data set.\n",
      "    for attrs in photon_count.attrs.items():\n",
      "        re_data.attrs.__setitem__(attrs[0],attrs[1])\n",
      "\n",
      "    re_data.attrs.__setitem__('downsampleCols',re_photon_count.shape[2])\n",
      "    re_data.attrs.__setitem__('downsampleRows',re_photon_count.shape[1])\n",
      "    re_data.attrs.__setitem__('downsample',4)\n",
      "    re_data.attrs.__setitem__('filepath',path_new+file_re)\n",
      "    re_data.attrs.__setitem__('wavelet','reconstructed from ll component, db2 family')\n",
      "\n",
      "    ## Save the change to the h5 file.\n",
      "    h5re.flush()\n",
      "    h5re.close()\n",
      "    \n",
      "    \n",
      "    ## Close the original h5 file.\n",
      "    h5file.close()\n",
      "    \n",
      "    ## Get file sizes\n",
      "    files_size_original[num]=os.path.getsize(path+file_name)/1024./1024.\n",
      "    files_size_ll[num] = os.path.getsize(path_new+file_ll)/1024./1024.\n",
      "    files_size_re[num] = os.path.getsize(path_new+file_re)/1024./1024.\n",
      "    \n",
      "    time_all[num,:]=[p_count.shape[0],time_wt,time_wt/p_count.shape[0],time_iwt,time_iwt/p_count.shape[0]]\n",
      "    \n",
      "    print 'Finished %s' % run_num\n",
      "      \n",
      "print \"file size orignial:\\n\",files_size_original\n",
      "print \"file size ll:\\n\",files_size_ll\n",
      "print \"file size re:\\n\",files_size_re\n",
      "\n",
      "print \"time:\\n\",time_all"
     ],
     "language": "python",
     "metadata": {},
     "outputs": [
      {
       "output_type": "stream",
       "stream": "stdout",
       "text": [
        "The time used to do wavelet transformation for 15 images \n",
        "is 0.047901 second\n",
        "The time used to do inverse transformation for 15 images \n",
        "is 0.047359 second\n",
        "Finished 182"
       ]
      },
      {
       "output_type": "stream",
       "stream": "stdout",
       "text": [
        "\n",
        "The time used to do wavelet transformation for 1 images "
       ]
      },
      {
       "output_type": "stream",
       "stream": "stdout",
       "text": [
        "\n",
        "is 0.003646 second\n",
        "The time used to do inverse transformation for 1 images \n",
        "is 0.003422 second\n",
        "Finished 184"
       ]
      },
      {
       "output_type": "stream",
       "stream": "stdout",
       "text": [
        "\n",
        "The time used to do wavelet transformation for 7 images "
       ]
      },
      {
       "output_type": "stream",
       "stream": "stdout",
       "text": [
        "\n",
        "is 0.021853 second\n",
        "The time used to do inverse transformation for 7 images \n",
        "is 0.022906 second\n",
        "Finished 185"
       ]
      },
      {
       "output_type": "stream",
       "stream": "stdout",
       "text": [
        "\n",
        "The time used to do wavelet transformation for 2048 images "
       ]
      },
      {
       "output_type": "stream",
       "stream": "stdout",
       "text": [
        "\n",
        "is 6.341736 second\n",
        "The time used to do inverse transformation for 2048 images "
       ]
      },
      {
       "output_type": "stream",
       "stream": "stdout",
       "text": [
        "\n",
        "is 6.526148 second\n",
        "Finished 186"
       ]
      },
      {
       "output_type": "stream",
       "stream": "stdout",
       "text": [
        "\n",
        "file size orignial:\n",
        "[  389.55841446   342.41075134   335.23218536  8857.02252579]\n",
        "file size ll:\n",
        "[  389.55841446   342.41075134   335.23218536  8923.54596329]\n",
        "file size re:\n",
        "[  391.47014999   342.41465759   336.12432861  9118.03815079]\n",
        "time:\n",
        "[[  1.50000000e+01   4.79009151e-02   3.19339434e-03   4.73589897e-02\n",
        "    3.15726598e-03]\n",
        " [  1.00000000e+00   3.64589691e-03   3.64589691e-03   3.42202187e-03\n",
        "    3.42202187e-03]\n",
        " [  7.00000000e+00   2.18532085e-02   3.12188693e-03   2.29060650e-02\n",
        "    3.27229500e-03]\n",
        " [  2.04800000e+03   6.34173584e+00   3.09655070e-03   6.52614808e+00\n",
        "    3.18659574e-03]]\n"
       ]
      }
     ],
     "prompt_number": 19
    },
    {
     "cell_type": "code",
     "collapsed": false,
     "input": [
      "t1= time.time()\n",
      "time.sleep(5)\n",
      "t2= time.time()\n",
      "\n",
      "print t2-t1"
     ],
     "language": "python",
     "metadata": {},
     "outputs": [
      {
       "output_type": "stream",
       "stream": "stdout",
       "text": [
        "5.00535798073\n"
       ]
      }
     ],
     "prompt_number": 9
    },
    {
     "cell_type": "code",
     "collapsed": false,
     "input": [],
     "language": "python",
     "metadata": {},
     "outputs": []
    }
   ],
   "metadata": {}
  }
 ]
}